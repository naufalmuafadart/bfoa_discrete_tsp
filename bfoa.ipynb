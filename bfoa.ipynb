{
 "cells": [
  {
   "cell_type": "code",
   "id": "initial_id",
   "metadata": {
    "collapsed": true,
    "ExecuteTime": {
     "end_time": "2025-06-08T07:37:02.639630Z",
     "start_time": "2025-06-08T07:37:02.414669Z"
    }
   },
   "source": "from algorithm.algorithm_bfoa import BfOA_TSP",
   "outputs": [],
   "execution_count": 1
  },
  {
   "metadata": {
    "ExecuteTime": {
     "end_time": "2025-06-08T07:37:10.944309Z",
     "start_time": "2025-06-08T07:37:02.754942Z"
    }
   },
   "cell_type": "code",
   "source": [
    "bfoa = BfOA_TSP(\n",
    "    [1, 2, 3, 4, 5, 6, 7, 8, 9, 10],\n",
    "    101,\n",
    "    1,\n",
    "    1,\n",
    "    1,\n",
    "    2,\n",
    "    2\n",
    ")\n",
    "\n",
    "bfoa.run()"
   ],
   "id": "47ee66dd226dae8b",
   "outputs": [
    {
     "name": "stdout",
     "output_type": "stream",
     "text": [
      "start phase 1\n",
      "end phase 1\n",
      "start phase 2\n",
      "phase 2 done\n",
      "best troops:  [4, 3, 1, 5, 8, 2, 10, 7, 6, 9]\n",
      "best troops fitness:  4757\n"
     ]
    },
    {
     "data": {
      "text/plain": [
       "([[4, 3, 1, 5, 8, 2, 10, 7, 6, 9]], 4757)"
      ]
     },
     "execution_count": 2,
     "metadata": {},
     "output_type": "execute_result"
    }
   ],
   "execution_count": 2
  }
 ],
 "metadata": {
  "kernelspec": {
   "display_name": "Python 3",
   "language": "python",
   "name": "python3"
  },
  "language_info": {
   "codemirror_mode": {
    "name": "ipython",
    "version": 2
   },
   "file_extension": ".py",
   "mimetype": "text/x-python",
   "name": "python",
   "nbconvert_exporter": "python",
   "pygments_lexer": "ipython2",
   "version": "2.7.6"
  }
 },
 "nbformat": 4,
 "nbformat_minor": 5
}
